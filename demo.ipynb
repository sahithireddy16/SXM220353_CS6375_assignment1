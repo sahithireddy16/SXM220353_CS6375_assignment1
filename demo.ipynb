{
 "cells": [
  {
   "cell_type": "code",
   "execution_count": 8,
   "metadata": {},
   "outputs": [
    {
     "name": "stdout",
     "output_type": "stream",
     "text": [
      "+------------+-------------------+\n",
      "|  Dataset   | Number of Entries |\n",
      "+------------+-------------------+\n",
      "|  Training  |       16000       |\n",
      "| Validation |        800        |\n",
      "|    Test    |        800        |\n",
      "+------------+-------------------+\n"
     ]
    }
   ],
   "source": [
    "import json\n",
    "from prettytable import PrettyTable\n",
    "\n",
    "# Initialize a PrettyTable object for displaying results\n",
    "table = PrettyTable()\n",
    "table.field_names = [\"Dataset\", \"Number of Entries\"]\n",
    "\n",
    "# Function to load JSON and return the length of data\n",
    "def load_and_count(file_name):\n",
    "    with open(file_name, 'r') as file:\n",
    "        data = json.load(file)\n",
    "    return len(data)\n",
    "\n",
    "# Load and count entries for each dataset\n",
    "training_count = load_and_count('Data_Embedding/training.json')\n",
    "validation_count = load_and_count('Data_Embedding/validation.json')\n",
    "test_count = load_and_count('Data_Embedding/test.json')\n",
    "\n",
    "# Add the results to the table\n",
    "table.add_row([\"Training\", training_count])\n",
    "table.add_row([\"Validation\", validation_count])\n",
    "table.add_row([\"Test\", test_count])\n",
    "\n",
    "# Print the table\n",
    "print(table)\n"
   ]
  },
  {
   "cell_type": "code",
   "execution_count": 7,
   "metadata": {},
   "outputs": [
    {
     "name": "stdout",
     "output_type": "stream",
     "text": [
      "Collecting prettytable\n",
      "  Using cached prettytable-3.11.0-py3-none-any.whl.metadata (30 kB)\n",
      "Requirement already satisfied: wcwidth in /Users/sahithireddymopuru/Library/Python/3.13/lib/python/site-packages (from prettytable) (0.2.13)\n",
      "Using cached prettytable-3.11.0-py3-none-any.whl (28 kB)\n",
      "Installing collected packages: prettytable\n",
      "Successfully installed prettytable-3.11.0\n",
      "Note: you may need to restart the kernel to use updated packages.\n"
     ]
    }
   ],
   "source": [
    "%pip install prettytable"
   ]
  }
 ],
 "metadata": {
  "kernelspec": {
   "display_name": "base",
   "language": "python",
   "name": "python3"
  },
  "language_info": {
   "codemirror_mode": {
    "name": "ipython",
    "version": 3
   },
   "file_extension": ".py",
   "mimetype": "text/x-python",
   "name": "python",
   "nbconvert_exporter": "python",
   "pygments_lexer": "ipython3",
   "version": "3.13.0"
  }
 },
 "nbformat": 4,
 "nbformat_minor": 2
}
